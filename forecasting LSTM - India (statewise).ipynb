{
 "cells": [
  {
   "cell_type": "code",
   "execution_count": 39,
   "metadata": {
    "ExecuteTime": {
     "end_time": "2020-05-03T17:47:41.307153Z",
     "start_time": "2020-05-03T17:47:41.281583Z"
    }
   },
   "outputs": [],
   "source": [
    "import re\n",
    "import numpy as np\n",
    "import pandas as pd\n",
    "\n",
    "import warnings\n",
    "warnings.filterwarnings(\"ignore\")\n",
    "\n",
    "import matplotlib.pyplot as plt\n",
    "%matplotlib inline\n",
    "\n",
    "from numpy.random import seed\n",
    "seed(1)\n",
    "\n",
    "import tensorflow\n",
    "tensorflow.random.set_seed(1)\n",
    "\n",
    "import requests\n",
    "import io\n",
    "\n",
    "def get_data(url):\n",
    "    s=requests.get(url).content\n",
    "    return pd.read_csv(io.StringIO(s.decode('utf-8')))\n"
   ]
  },
  {
   "cell_type": "code",
   "execution_count": 40,
   "metadata": {
    "ExecuteTime": {
     "end_time": "2020-05-03T17:47:42.478861Z",
     "start_time": "2020-05-03T17:47:42.080335Z"
    }
   },
   "outputs": [],
   "source": [
    "df = get_data(\"https://api.covid19india.org/csv/latest/state_wise_daily.csv\")"
   ]
  },
  {
   "cell_type": "code",
   "execution_count": 41,
   "metadata": {
    "ExecuteTime": {
     "end_time": "2020-05-03T17:47:42.493738Z",
     "start_time": "2020-05-03T17:47:42.480890Z"
    }
   },
   "outputs": [
    {
     "name": "stdout",
     "output_type": "stream",
     "text": [
      "<class 'pandas.core.frame.DataFrame'>\n",
      "RangeIndex: 150 entries, 0 to 149\n",
      "Data columns (total 40 columns):\n",
      "Date      150 non-null object\n",
      "Status    150 non-null object\n",
      "TT        150 non-null int64\n",
      "AN        150 non-null int64\n",
      "AP        150 non-null int64\n",
      "AR        150 non-null int64\n",
      "AS        150 non-null int64\n",
      "BR        150 non-null int64\n",
      "CH        150 non-null int64\n",
      "CT        150 non-null int64\n",
      "DN        150 non-null int64\n",
      "DD        150 non-null int64\n",
      "DL        150 non-null int64\n",
      "GA        150 non-null int64\n",
      "GJ        150 non-null int64\n",
      "HR        150 non-null int64\n",
      "HP        150 non-null int64\n",
      "JK        150 non-null int64\n",
      "JH        150 non-null int64\n",
      "KA        150 non-null int64\n",
      "KL        150 non-null int64\n",
      "LA        150 non-null int64\n",
      "LD        150 non-null int64\n",
      "MP        149 non-null float64\n",
      "MH        150 non-null int64\n",
      "MN        150 non-null int64\n",
      "ML        150 non-null int64\n",
      "MZ        150 non-null int64\n",
      "NL        150 non-null int64\n",
      "OR        150 non-null int64\n",
      "PY        150 non-null int64\n",
      "PB        150 non-null int64\n",
      "RJ        150 non-null int64\n",
      "SK        150 non-null int64\n",
      "TN        150 non-null int64\n",
      "TG        150 non-null int64\n",
      "TR        150 non-null int64\n",
      "UP        150 non-null int64\n",
      "UT        150 non-null int64\n",
      "WB        150 non-null int64\n",
      "dtypes: float64(1), int64(37), object(2)\n",
      "memory usage: 47.0+ KB\n"
     ]
    }
   ],
   "source": [
    "df.info()"
   ]
  },
  {
   "cell_type": "code",
   "execution_count": 42,
   "metadata": {
    "ExecuteTime": {
     "end_time": "2020-05-03T17:47:42.955475Z",
     "start_time": "2020-05-03T17:47:42.934507Z"
    }
   },
   "outputs": [
    {
     "data": {
      "text/html": [
       "<div>\n",
       "<style scoped>\n",
       "    .dataframe tbody tr th:only-of-type {\n",
       "        vertical-align: middle;\n",
       "    }\n",
       "\n",
       "    .dataframe tbody tr th {\n",
       "        vertical-align: top;\n",
       "    }\n",
       "\n",
       "    .dataframe thead th {\n",
       "        text-align: right;\n",
       "    }\n",
       "</style>\n",
       "<table border=\"1\" class=\"dataframe\">\n",
       "  <thead>\n",
       "    <tr style=\"text-align: right;\">\n",
       "      <th></th>\n",
       "      <th>Date</th>\n",
       "      <th>Status</th>\n",
       "      <th>TT</th>\n",
       "      <th>AN</th>\n",
       "      <th>AP</th>\n",
       "      <th>AR</th>\n",
       "      <th>AS</th>\n",
       "      <th>BR</th>\n",
       "      <th>CH</th>\n",
       "      <th>CT</th>\n",
       "      <th>...</th>\n",
       "      <th>PY</th>\n",
       "      <th>PB</th>\n",
       "      <th>RJ</th>\n",
       "      <th>SK</th>\n",
       "      <th>TN</th>\n",
       "      <th>TG</th>\n",
       "      <th>TR</th>\n",
       "      <th>UP</th>\n",
       "      <th>UT</th>\n",
       "      <th>WB</th>\n",
       "    </tr>\n",
       "  </thead>\n",
       "  <tbody>\n",
       "    <tr>\n",
       "      <th>0</th>\n",
       "      <td>14-Mar-20</td>\n",
       "      <td>Confirmed</td>\n",
       "      <td>81</td>\n",
       "      <td>0</td>\n",
       "      <td>1</td>\n",
       "      <td>0</td>\n",
       "      <td>0</td>\n",
       "      <td>0</td>\n",
       "      <td>0</td>\n",
       "      <td>0</td>\n",
       "      <td>...</td>\n",
       "      <td>0</td>\n",
       "      <td>1</td>\n",
       "      <td>3</td>\n",
       "      <td>0</td>\n",
       "      <td>1</td>\n",
       "      <td>1</td>\n",
       "      <td>0</td>\n",
       "      <td>12</td>\n",
       "      <td>0</td>\n",
       "      <td>0</td>\n",
       "    </tr>\n",
       "    <tr>\n",
       "      <th>1</th>\n",
       "      <td>14-Mar-20</td>\n",
       "      <td>Recovered</td>\n",
       "      <td>9</td>\n",
       "      <td>0</td>\n",
       "      <td>0</td>\n",
       "      <td>0</td>\n",
       "      <td>0</td>\n",
       "      <td>0</td>\n",
       "      <td>0</td>\n",
       "      <td>0</td>\n",
       "      <td>...</td>\n",
       "      <td>0</td>\n",
       "      <td>0</td>\n",
       "      <td>1</td>\n",
       "      <td>0</td>\n",
       "      <td>0</td>\n",
       "      <td>0</td>\n",
       "      <td>0</td>\n",
       "      <td>4</td>\n",
       "      <td>0</td>\n",
       "      <td>0</td>\n",
       "    </tr>\n",
       "    <tr>\n",
       "      <th>2</th>\n",
       "      <td>14-Mar-20</td>\n",
       "      <td>Deceased</td>\n",
       "      <td>2</td>\n",
       "      <td>0</td>\n",
       "      <td>0</td>\n",
       "      <td>0</td>\n",
       "      <td>0</td>\n",
       "      <td>0</td>\n",
       "      <td>0</td>\n",
       "      <td>0</td>\n",
       "      <td>...</td>\n",
       "      <td>0</td>\n",
       "      <td>0</td>\n",
       "      <td>0</td>\n",
       "      <td>0</td>\n",
       "      <td>0</td>\n",
       "      <td>0</td>\n",
       "      <td>0</td>\n",
       "      <td>0</td>\n",
       "      <td>0</td>\n",
       "      <td>0</td>\n",
       "    </tr>\n",
       "    <tr>\n",
       "      <th>3</th>\n",
       "      <td>15-Mar-20</td>\n",
       "      <td>Confirmed</td>\n",
       "      <td>27</td>\n",
       "      <td>0</td>\n",
       "      <td>0</td>\n",
       "      <td>0</td>\n",
       "      <td>0</td>\n",
       "      <td>0</td>\n",
       "      <td>0</td>\n",
       "      <td>0</td>\n",
       "      <td>...</td>\n",
       "      <td>0</td>\n",
       "      <td>0</td>\n",
       "      <td>1</td>\n",
       "      <td>0</td>\n",
       "      <td>0</td>\n",
       "      <td>2</td>\n",
       "      <td>0</td>\n",
       "      <td>1</td>\n",
       "      <td>0</td>\n",
       "      <td>0</td>\n",
       "    </tr>\n",
       "    <tr>\n",
       "      <th>4</th>\n",
       "      <td>15-Mar-20</td>\n",
       "      <td>Recovered</td>\n",
       "      <td>4</td>\n",
       "      <td>0</td>\n",
       "      <td>0</td>\n",
       "      <td>0</td>\n",
       "      <td>0</td>\n",
       "      <td>0</td>\n",
       "      <td>0</td>\n",
       "      <td>0</td>\n",
       "      <td>...</td>\n",
       "      <td>0</td>\n",
       "      <td>0</td>\n",
       "      <td>2</td>\n",
       "      <td>0</td>\n",
       "      <td>0</td>\n",
       "      <td>1</td>\n",
       "      <td>0</td>\n",
       "      <td>0</td>\n",
       "      <td>0</td>\n",
       "      <td>0</td>\n",
       "    </tr>\n",
       "  </tbody>\n",
       "</table>\n",
       "<p>5 rows × 40 columns</p>\n",
       "</div>"
      ],
      "text/plain": [
       "        Date     Status  TT  AN  AP  AR  AS  BR  CH  CT  ...  PY  PB  RJ  SK  \\\n",
       "0  14-Mar-20  Confirmed  81   0   1   0   0   0   0   0  ...   0   1   3   0   \n",
       "1  14-Mar-20  Recovered   9   0   0   0   0   0   0   0  ...   0   0   1   0   \n",
       "2  14-Mar-20   Deceased   2   0   0   0   0   0   0   0  ...   0   0   0   0   \n",
       "3  15-Mar-20  Confirmed  27   0   0   0   0   0   0   0  ...   0   0   1   0   \n",
       "4  15-Mar-20  Recovered   4   0   0   0   0   0   0   0  ...   0   0   2   0   \n",
       "\n",
       "   TN  TG  TR  UP  UT  WB  \n",
       "0   1   1   0  12   0   0  \n",
       "1   0   0   0   4   0   0  \n",
       "2   0   0   0   0   0   0  \n",
       "3   0   2   0   1   0   0  \n",
       "4   0   1   0   0   0   0  \n",
       "\n",
       "[5 rows x 40 columns]"
      ]
     },
     "execution_count": 42,
     "metadata": {},
     "output_type": "execute_result"
    }
   ],
   "source": [
    "df.head()"
   ]
  },
  {
   "cell_type": "code",
   "execution_count": 43,
   "metadata": {
    "ExecuteTime": {
     "end_time": "2020-05-03T17:47:43.585968Z",
     "start_time": "2020-05-03T17:47:43.570831Z"
    }
   },
   "outputs": [],
   "source": [
    "df = df[df['Status']=='Confirmed']"
   ]
  },
  {
   "cell_type": "code",
   "execution_count": 44,
   "metadata": {
    "ExecuteTime": {
     "end_time": "2020-05-03T17:47:44.215505Z",
     "start_time": "2020-05-03T17:47:44.200893Z"
    }
   },
   "outputs": [],
   "source": [
    "df.Date = pd.to_datetime(df.Date, format='%d-%b-%y')"
   ]
  },
  {
   "cell_type": "code",
   "execution_count": 45,
   "metadata": {
    "ExecuteTime": {
     "end_time": "2020-05-03T17:47:44.602938Z",
     "start_time": "2020-05-03T17:47:44.588832Z"
    }
   },
   "outputs": [],
   "source": [
    "df = df.drop(['Status'], axis=1)"
   ]
  },
  {
   "cell_type": "code",
   "execution_count": 47,
   "metadata": {
    "ExecuteTime": {
     "end_time": "2020-05-03T17:47:46.287888Z",
     "start_time": "2020-05-03T17:47:46.275427Z"
    }
   },
   "outputs": [],
   "source": [
    "from sklearn.preprocessing import MinMaxScaler\n",
    "scaler = MinMaxScaler()"
   ]
  },
  {
   "cell_type": "code",
   "execution_count": 48,
   "metadata": {
    "ExecuteTime": {
     "end_time": "2020-05-03T17:47:47.183550Z",
     "start_time": "2020-05-03T17:47:47.162213Z"
    }
   },
   "outputs": [
    {
     "name": "stdout",
     "output_type": "stream",
     "text": [
      "<class 'pandas.core.frame.DataFrame'>\n",
      "DatetimeIndex: 50 entries, 2020-03-14 to 2020-05-02\n",
      "Data columns (total 38 columns):\n",
      "TT    50 non-null int64\n",
      "AN    50 non-null int64\n",
      "AP    50 non-null int64\n",
      "AR    50 non-null int64\n",
      "AS    50 non-null int64\n",
      "BR    50 non-null int64\n",
      "CH    50 non-null int64\n",
      "CT    50 non-null int64\n",
      "DN    50 non-null int64\n",
      "DD    50 non-null int64\n",
      "DL    50 non-null int64\n",
      "GA    50 non-null int64\n",
      "GJ    50 non-null int64\n",
      "HR    50 non-null int64\n",
      "HP    50 non-null int64\n",
      "JK    50 non-null int64\n",
      "JH    50 non-null int64\n",
      "KA    50 non-null int64\n",
      "KL    50 non-null int64\n",
      "LA    50 non-null int64\n",
      "LD    50 non-null int64\n",
      "MP    49 non-null float64\n",
      "MH    50 non-null int64\n",
      "MN    50 non-null int64\n",
      "ML    50 non-null int64\n",
      "MZ    50 non-null int64\n",
      "NL    50 non-null int64\n",
      "OR    50 non-null int64\n",
      "PY    50 non-null int64\n",
      "PB    50 non-null int64\n",
      "RJ    50 non-null int64\n",
      "SK    50 non-null int64\n",
      "TN    50 non-null int64\n",
      "TG    50 non-null int64\n",
      "TR    50 non-null int64\n",
      "UP    50 non-null int64\n",
      "UT    50 non-null int64\n",
      "WB    50 non-null int64\n",
      "dtypes: float64(1), int64(37)\n",
      "memory usage: 15.2 KB\n"
     ]
    }
   ],
   "source": [
    "df.reset_index()\n",
    "df = df.set_index(\"Date\")\n",
    "df.info()"
   ]
  },
  {
   "cell_type": "code",
   "execution_count": 49,
   "metadata": {
    "ExecuteTime": {
     "end_time": "2020-05-03T17:47:48.225766Z",
     "start_time": "2020-05-03T17:47:48.219051Z"
    }
   },
   "outputs": [],
   "source": [
    "df = df.cumsum()"
   ]
  },
  {
   "cell_type": "code",
   "execution_count": 54,
   "metadata": {
    "ExecuteTime": {
     "end_time": "2020-05-03T17:48:21.258836Z",
     "start_time": "2020-05-03T17:48:20.924530Z"
    }
   },
   "outputs": [
    {
     "data": {
      "image/png": "[encoded data removed]",
      "text/plain": [
       "<Figure size 1296x648 with 1 Axes>"
      ]
     },
     "metadata": {
      "needs_background": "light"
     },
     "output_type": "display_data"
    }
   ],
   "source": [
    "plt.figure(figsize=(18,9))\n",
    "plt.plot(df.index, df['GJ'], linestyle=\"-\")\n",
    "plt.show()"
   ]
  },
  {
   "cell_type": "code",
   "execution_count": 51,
   "metadata": {
    "ExecuteTime": {
     "end_time": "2020-05-03T17:48:03.323771Z",
     "start_time": "2020-05-03T17:48:03.305757Z"
    }
   },
   "outputs": [],
   "source": [
    "df = df[['GJ', 'UT']]"
   ]
  },
  {
   "cell_type": "code",
   "execution_count": 52,
   "metadata": {
    "ExecuteTime": {
     "end_time": "2020-05-03T17:48:04.502585Z",
     "start_time": "2020-05-03T17:48:04.490777Z"
    }
   },
   "outputs": [],
   "source": [
    "df = df.drop(['UT'], axis=1)"
   ]
  },
  {
   "cell_type": "code",
   "execution_count": 53,
   "metadata": {
    "ExecuteTime": {
     "end_time": "2020-05-03T17:48:05.165760Z",
     "start_time": "2020-05-03T17:48:05.146667Z"
    }
   },
   "outputs": [
    {
     "name": "stdout",
     "output_type": "stream",
     "text": [
      "<class 'pandas.core.frame.DataFrame'>\n",
      "DatetimeIndex: 50 entries, 2020-03-14 to 2020-05-02\n",
      "Data columns (total 1 columns):\n",
      "GJ    50 non-null float64\n",
      "dtypes: float64(1)\n",
      "memory usage: 800.0 bytes\n"
     ]
    }
   ],
   "source": [
    "df.info()"
   ]
  },
  {
   "cell_type": "code",
   "execution_count": 55,
   "metadata": {
    "ExecuteTime": {
     "end_time": "2020-05-03T17:48:25.281889Z",
     "start_time": "2020-05-03T17:48:25.262791Z"
    }
   },
   "outputs": [],
   "source": [
    "# split the data into train and test set\n",
    "train_data = df[:len(df)-5]\n",
    "test_data = df[len(df)-5:]"
   ]
  },
  {
   "cell_type": "code",
   "execution_count": 56,
   "metadata": {
    "ExecuteTime": {
     "end_time": "2020-05-03T17:48:25.849828Z",
     "start_time": "2020-05-03T17:48:25.830902Z"
    }
   },
   "outputs": [],
   "source": [
    "scaler.fit(train_data)\n",
    "scaled_train_data = scaler.transform(train_data)\n",
    "scaled_test_data = scaler.transform(test_data)"
   ]
  },
  {
   "cell_type": "code",
   "execution_count": 57,
   "metadata": {
    "ExecuteTime": {
     "end_time": "2020-05-03T17:48:26.779603Z",
     "start_time": "2020-05-03T17:48:26.774019Z"
    }
   },
   "outputs": [],
   "source": [
    "from keras.preprocessing.sequence import TimeseriesGenerator\n",
    "from keras.models import Sequential\n",
    "from keras.layers import Dense\n",
    "from keras.layers import LSTM\n",
    "from keras.layers import Dropout"
   ]
  },
  {
   "cell_type": "code",
   "execution_count": 58,
   "metadata": {
    "ExecuteTime": {
     "end_time": "2020-05-03T17:48:28.421751Z",
     "start_time": "2020-05-03T17:48:28.415795Z"
    }
   },
   "outputs": [],
   "source": [
    "n_input = 20\n",
    "n_features= 1\n",
    "generator = TimeseriesGenerator(scaled_train_data, scaled_train_data, length=n_input, batch_size=1)"
   ]
  },
  {
   "cell_type": "code",
   "execution_count": 59,
   "metadata": {
    "ExecuteTime": {
     "end_time": "2020-05-03T17:48:28.980561Z",
     "start_time": "2020-05-03T17:48:28.761574Z"
    }
   },
   "outputs": [
    {
     "name": "stdout",
     "output_type": "stream",
     "text": [
      "Model: \"sequential_2\"\n",
      "_________________________________________________________________\n",
      "Layer (type)                 Output Shape              Param #   \n",
      "=================================================================\n",
      "lstm_2 (LSTM)                (None, 110)               49280     \n",
      "_________________________________________________________________\n",
      "dropout_2 (Dropout)          (None, 110)               0         \n",
      "_________________________________________________________________\n",
      "dense_2 (Dense)              (None, 1)                 111       \n",
      "=================================================================\n",
      "Total params: 49,391\n",
      "Trainable params: 49,391\n",
      "Non-trainable params: 0\n",
      "_________________________________________________________________\n"
     ]
    }
   ],
   "source": [
    "lstm_model = Sequential()\n",
    "#lstm_model.add(LSTM(200, activation='tanh', input_shape=(n_input, n_features)))\n",
    "lstm_model.add(LSTM(110, activation='selu', input_shape=(n_input, n_features)))\n",
    "#lstm_model.add(LSTM(200, activation='relu', input_shape=(n_input, n_features)))\n",
    "lstm_model.add(Dropout(0.1))\n",
    "lstm_model.add(Dense(1))\n",
    "lstm_model.compile(optimizer='Adadelta', loss='mse', metrics=['accuracy'])#, learning_rate=0.01)\n",
    "# lstm_model.compile(optimizer='Adamax', loss='mse', learning_rate=0.002, beta_1=0.9, beta_2=0.999)\n",
    "#lstm_model.compile(optimizer='adam', loss='mse', metrics=['accuracy'])\n",
    "\n",
    "lstm_model.summary()\n"
   ]
  },
  {
   "cell_type": "code",
   "execution_count": 60,
   "metadata": {
    "ExecuteTime": {
     "end_time": "2020-05-03T17:48:48.381402Z",
     "start_time": "2020-05-03T17:48:30.083871Z"
    }
   },
   "outputs": [
    {
     "name": "stdout",
     "output_type": "stream",
     "text": [
      "Epoch 1/10\n",
      "25/25 [==============================] - 4s 176ms/step - loss: 0.0443 - accuracy: 0.0400\n",
      "Epoch 2/10\n",
      "25/25 [==============================] - 1s 56ms/step - loss: 0.0033 - accuracy: 0.0400\n",
      "Epoch 3/10\n",
      "25/25 [==============================] - 1s 58ms/step - loss: 0.0036 - accuracy: 0.0400\n",
      "Epoch 4/10\n",
      "25/25 [==============================] - 1s 53ms/step - loss: 0.0066 - accuracy: 0.0400\n",
      "Epoch 5/10\n",
      "25/25 [==============================] - 1s 59ms/step - loss: 0.0043 - accuracy: 0.0400\n",
      "Epoch 6/10\n",
      "25/25 [==============================] - 1s 59ms/step - loss: 0.0032 - accuracy: 0.0400\n",
      "Epoch 7/10\n",
      "25/25 [==============================] - 2s 63ms/step - loss: 0.0066 - accuracy: 0.0400\n",
      "Epoch 8/10\n",
      "25/25 [==============================] - 2s 60ms/step - loss: 0.0042 - accuracy: 0.0400\n",
      "Epoch 9/10\n",
      "25/25 [==============================] - 1s 53ms/step - loss: 0.0047 - accuracy: 0.0400\n",
      "Epoch 10/10\n",
      "25/25 [==============================] - 1s 53ms/step - loss: 0.0070 - accuracy: 0.0400\n"
     ]
    },
    {
     "data": {
      "text/plain": [
       "<keras.callbacks.callbacks.History at 0x7f38ddf82e10>"
      ]
     },
     "execution_count": 60,
     "metadata": {},
     "output_type": "execute_result"
    }
   ],
   "source": [
    "lstm_model.fit_generator(generator,epochs=10)"
   ]
  },
  {
   "cell_type": "code",
   "execution_count": 61,
   "metadata": {
    "ExecuteTime": {
     "end_time": "2020-05-03T17:48:48.710898Z",
     "start_time": "2020-05-03T17:48:48.384192Z"
    }
   },
   "outputs": [
    {
     "data": {
      "image/png": "[encoded data removed]",
      "text/plain": [
       "<Figure size 864x288 with 1 Axes>"
      ]
     },
     "metadata": {
      "needs_background": "light"
     },
     "output_type": "display_data"
    }
   ],
   "source": [
    "losses_lstm = lstm_model.history.history['loss']\n",
    "plt.figure(figsize=(12,4))\n",
    "plt.xticks(np.arange(0,21,1))\n",
    "plt.plot(range(len(losses_lstm)),losses_lstm);"
   ]
  },
  {
   "cell_type": "code",
   "execution_count": 62,
   "metadata": {
    "ExecuteTime": {
     "end_time": "2020-05-03T17:48:48.715877Z",
     "start_time": "2020-05-03T17:48:48.712959Z"
    }
   },
   "outputs": [],
   "source": [
    "lstm_predictions_scaled = list()\n",
    "\n",
    "batch = scaled_train_data[-n_input:]"
   ]
  },
  {
   "cell_type": "code",
   "execution_count": 63,
   "metadata": {
    "ExecuteTime": {
     "end_time": "2020-05-03T17:48:48.788983Z",
     "start_time": "2020-05-03T17:48:48.718056Z"
    }
   },
   "outputs": [],
   "source": [
    "current_batch = batch.reshape((1, n_input, n_features))"
   ]
  },
  {
   "cell_type": "code",
   "execution_count": 64,
   "metadata": {
    "ExecuteTime": {
     "end_time": "2020-05-03T17:48:55.547180Z",
     "start_time": "2020-05-03T17:48:55.137351Z"
    }
   },
   "outputs": [],
   "source": [
    "for i in range(8):   \n",
    "    lstm_pred = lstm_model.predict(current_batch)[0]\n",
    "    lstm_predictions_scaled.append(lstm_pred) \n",
    "    current_batch = np.append(current_batch[:,1:,:],[[lstm_pred]],axis=1)\n"
   ]
  },
  {
   "cell_type": "code",
   "execution_count": 65,
   "metadata": {
    "ExecuteTime": {
     "end_time": "2020-05-03T17:48:56.342914Z",
     "start_time": "2020-05-03T17:48:56.317841Z"
    }
   },
   "outputs": [
    {
     "data": {
      "text/plain": [
       "array([[3978.24333525],\n",
       "       [4201.6263628 ],\n",
       "       [4422.90772915],\n",
       "       [4637.91160393],\n",
       "       [4841.10362673],\n",
       "       [5029.20463085],\n",
       "       [5201.67069674],\n",
       "       [5358.93662167]])"
      ]
     },
     "execution_count": 65,
     "metadata": {},
     "output_type": "execute_result"
    }
   ],
   "source": [
    "lstm_predictions = scaler.inverse_transform(lstm_predictions_scaled)\n",
    "lstm_predictions"
   ]
  },
  {
   "cell_type": "code",
   "execution_count": 66,
   "metadata": {
    "ExecuteTime": {
     "end_time": "2020-05-03T17:48:59.152929Z",
     "start_time": "2020-05-03T17:48:59.141425Z"
    }
   },
   "outputs": [
    {
     "data": {
      "text/html": [
       "<div>\n",
       "<style scoped>\n",
       "    .dataframe tbody tr th:only-of-type {\n",
       "        vertical-align: middle;\n",
       "    }\n",
       "\n",
       "    .dataframe tbody tr th {\n",
       "        vertical-align: top;\n",
       "    }\n",
       "\n",
       "    .dataframe thead th {\n",
       "        text-align: right;\n",
       "    }\n",
       "</style>\n",
       "<table border=\"1\" class=\"dataframe\">\n",
       "  <thead>\n",
       "    <tr style=\"text-align: right;\">\n",
       "      <th></th>\n",
       "      <th>GJ</th>\n",
       "      <th>Predicted_Confirmed_Cases</th>\n",
       "    </tr>\n",
       "    <tr>\n",
       "      <th>Date</th>\n",
       "      <th></th>\n",
       "      <th></th>\n",
       "    </tr>\n",
       "  </thead>\n",
       "  <tbody>\n",
       "    <tr>\n",
       "      <th>2020-04-28</th>\n",
       "      <td>3774.0</td>\n",
       "      <td>3978.243335</td>\n",
       "    </tr>\n",
       "    <tr>\n",
       "      <th>2020-04-29</th>\n",
       "      <td>4082.0</td>\n",
       "      <td>4201.626363</td>\n",
       "    </tr>\n",
       "    <tr>\n",
       "      <th>2020-04-30</th>\n",
       "      <td>4395.0</td>\n",
       "      <td>4422.907729</td>\n",
       "    </tr>\n",
       "    <tr>\n",
       "      <th>2020-05-01</th>\n",
       "      <td>4721.0</td>\n",
       "      <td>4637.911604</td>\n",
       "    </tr>\n",
       "    <tr>\n",
       "      <th>2020-05-02</th>\n",
       "      <td>5054.0</td>\n",
       "      <td>4841.103627</td>\n",
       "    </tr>\n",
       "  </tbody>\n",
       "</table>\n",
       "</div>"
      ],
      "text/plain": [
       "                GJ  Predicted_Confirmed_Cases\n",
       "Date                                         \n",
       "2020-04-28  3774.0                3978.243335\n",
       "2020-04-29  4082.0                4201.626363\n",
       "2020-04-30  4395.0                4422.907729\n",
       "2020-05-01  4721.0                4637.911604\n",
       "2020-05-02  5054.0                4841.103627"
      ]
     },
     "execution_count": 66,
     "metadata": {},
     "output_type": "execute_result"
    }
   ],
   "source": [
    "test_data['Predicted_Confirmed_Cases'] = lstm_predictions[:5]\n",
    "test_data"
   ]
  },
  {
   "cell_type": "code",
   "execution_count": 68,
   "metadata": {
    "ExecuteTime": {
     "end_time": "2020-05-03T17:49:20.878318Z",
     "start_time": "2020-05-03T17:49:20.862238Z"
    }
   },
   "outputs": [
    {
     "name": "stdout",
     "output_type": "stream",
     "text": [
      "RMSE:  147.67071160538876\n",
      "MAE:  129.5524393081665\n"
     ]
    }
   ],
   "source": [
    "from sklearn.metrics import mean_squared_error\n",
    "import math\n",
    "print('RMSE: ', math.sqrt(mean_squared_error(test_data['GJ'], test_data['Predicted_Confirmed_Cases'])))\n",
    "\n",
    "from sklearn.metrics import mean_absolute_error\n",
    "print('MAE: ', mean_absolute_error(test_data['GJ'], test_data['Predicted_Confirmed_Cases']))\n"
   ]
  },
  {
   "cell_type": "code",
   "execution_count": 69,
   "metadata": {
    "ExecuteTime": {
     "end_time": "2020-05-03T17:49:28.598899Z",
     "start_time": "2020-05-03T17:49:27.542363Z"
    }
   },
   "outputs": [
    {
     "data": {
      "text/plain": [
       "<matplotlib.axes._subplots.AxesSubplot at 0x7f38ddab0650>"
      ]
     },
     "execution_count": 69,
     "metadata": {},
     "output_type": "execute_result"
    },
    {
     "data": {
      "image/png": "[encoded data removed]",
      "text/plain": [
       "<Figure size 1152x360 with 1 Axes>"
      ]
     },
     "metadata": {
      "needs_background": "light"
     },
     "output_type": "display_data"
    }
   ],
   "source": [
    "test_data['GJ'].plot(figsize = (16,5), legend=True)\n",
    "test_data['Predicted_Confirmed_Cases'].plot(legend = True)"
   ]
  },
  {
   "cell_type": "code",
   "execution_count": null,
   "metadata": {},
   "outputs": [],
   "source": []
  },
  {
   "cell_type": "code",
   "execution_count": null,
   "metadata": {},
   "outputs": [],
   "source": []
  },
  {
   "cell_type": "code",
   "execution_count": null,
   "metadata": {},
   "outputs": [],
   "source": []
  }
 ],
 "metadata": {
  "kernelspec": {
   "display_name": "Python [conda env:root] *",
   "language": "python",
   "name": "conda-root-py"
  },
  "language_info": {
   "codemirror_mode": {
    "name": "ipython",
    "version": 3
   },
   "file_extension": ".py",
   "mimetype": "text/x-python",
   "name": "python",
   "nbconvert_exporter": "python",
   "pygments_lexer": "ipython3",
   "version": "3.7.5"
  }
 },
 "nbformat": 4,
 "nbformat_minor": 2
}
